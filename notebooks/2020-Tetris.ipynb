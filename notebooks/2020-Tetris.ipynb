{
 "cells": [
  {
   "cell_type": "markdown",
   "metadata": {},
   "source": [
    "## Useful resources\n",
    "\n",
    "### Documentation\n",
    "\n",
    "- [OpenAI Gym](https://gym.openai.com/docs/#environments)\n",
    "- [Retro](https://retro.readthedocs.io/en/latest/python.html)\n",
    "\n",
    "### Reinforcement implementations\n",
    "\n",
    "- https://github.com/h3nnn4n/Reverse-Engineering-the-GameBoy-Tetris/blob/master/mem_locations.md\n",
    "- https://adventuresinmachinelearning.com/reinforcement-learning-tutorial-python-keras/\n",
    "- https://yanpanlau.github.io/2016/07/10/FlappyBird-Keras.html\n",
    "- https://github.com/keras-rl/keras-rl"
   ]
  },
  {
   "cell_type": "code",
   "execution_count": null,
   "metadata": {},
   "outputs": [],
   "source": [
    "# Standard\n",
    "from pathlib import Path\n",
    "import threading\n",
    "import time\n",
    "\n",
    "# Extra\n",
    "import retro\n",
    "from IPython.display import display\n",
    "import ipywidgets as widgets"
   ]
  },
  {
   "cell_type": "code",
   "execution_count": null,
   "metadata": {},
   "outputs": [],
   "source": [
    "TETRIS_PATH = Path(\".\") / \"games\""
   ]
  },
  {
   "cell_type": "code",
   "execution_count": null,
   "metadata": {},
   "outputs": [],
   "source": [
    "retro.data.Integrations.add_custom_path(TETRIS_PATH.resolve())"
   ]
  },
  {
   "cell_type": "code",
   "execution_count": null,
   "metadata": {},
   "outputs": [],
   "source": [
    "info_obj = {\n",
    "    \"lines_cleared\": 0,\n",
    "    #'frame_delay_remaining': 4,\n",
    "    \"level\": 0,\n",
    "    \"frame_delay\": 34,\n",
    "    \"lines_cleared_d1\": 0,\n",
    "    \"preview_piece\": 4,\n",
    "    \"screen_state\": 0,\n",
    "    \"score\": 0,\n",
    "    \"lines_cleared_d3\": 25,\n",
    "    \"lines_cleared_d2\": 25,\n",
    "}"
   ]
  },
  {
   "cell_type": "code",
   "execution_count": null,
   "metadata": {},
   "outputs": [],
   "source": [
    "def create_widgets():\n",
    "    # Create info outputs\n",
    "    for key in info_obj.keys():\n",
    "        all_widgets[key] = widgets.IntText(\n",
    "            description=f\"{key}:\",\n",
    "            disabled=True,\n",
    "            layout=widgets.Layout(width=\"200px\"),\n",
    "            style={\"description_width\": \"140px\"},\n",
    "        )\n",
    "    \n",
    "    # Create stop button\n",
    "    def on_button_clicked(_):\n",
    "        global stop_threads\n",
    "        stop_threads = True\n",
    "\n",
    "    button = widgets.Button(description='Stop')\n",
    "    button.on_click(on_button_clicked)\n",
    "\n",
    "    all_widgets[\"Button\"] = button\n",
    "        \n",
    "    w = widgets.GridBox(\n",
    "        [v for k, v in all_widgets.items()],\n",
    "        layout=widgets.Layout(grid_template_columns=\"repeat(2, 300px)\"),\n",
    "    )\n",
    "    return w"
   ]
  },
  {
   "cell_type": "code",
   "execution_count": null,
   "metadata": {},
   "outputs": [],
   "source": [
    "def update_widgets(info):\n",
    "    for k, v in info_obj.items():\n",
    "        all_widgets[k].value = info[k]"
   ]
  },
  {
   "cell_type": "code",
   "execution_count": null,
   "metadata": {},
   "outputs": [],
   "source": [
    "def run_game(id, stop):\n",
    "    print(\"Starting Tetris...\")\n",
    "    env = retro.make(game=\"Tetris-GameBoy\", inttype=retro.data.Integrations.ALL)\n",
    "    obs = env.reset()    \n",
    "    while True:\n",
    "        obs, rew, done, info = env.step(env.action_space.sample())\n",
    "        env.render()\n",
    "        update_widgets(info)\n",
    "        if info[\"screen_state\"] != 0:\n",
    "            break\n",
    "        if done:\n",
    "            obs = env.reset()        \n",
    "        if stop():\n",
    "            print(\"Exiting loop.\")\n",
    "            break\n",
    "    #env.render(close=True)            \n",
    "    env.close()\n",
    "    print(\"Execution Interrupted.\")"
   ]
  },
  {
   "cell_type": "code",
   "execution_count": null,
   "metadata": {},
   "outputs": [],
   "source": [
    "all_widgets = {}\n",
    "stop_threads = False\n",
    "worker = threading.Thread(target=run_game, args=(id, lambda: stop_threads))\n",
    "display(create_widgets())"
   ]
  },
  {
   "cell_type": "code",
   "execution_count": null,
   "metadata": {},
   "outputs": [],
   "source": [
    "worker.start()"
   ]
  },
  {
   "cell_type": "code",
   "execution_count": null,
   "metadata": {},
   "outputs": [],
   "source": []
  }
 ],
 "metadata": {
  "kernelspec": {
   "display_name": "Python 3",
   "language": "python",
   "name": "python3"
  },
  "language_info": {
   "codemirror_mode": {
    "name": "ipython",
    "version": 3
   },
   "file_extension": ".py",
   "mimetype": "text/x-python",
   "name": "python",
   "nbconvert_exporter": "python",
   "pygments_lexer": "ipython3",
   "version": "3.7.5"
  }
 },
 "nbformat": 4,
 "nbformat_minor": 4
}
