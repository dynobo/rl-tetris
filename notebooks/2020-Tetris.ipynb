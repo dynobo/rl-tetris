{
 "cells": [
  {
   "cell_type": "markdown",
   "metadata": {},
   "source": [
    "## Useful resources\n",
    "\n",
    "### Documentation\n",
    "\n",
    "- [OpenAI Gym](https://gym.openai.com/docs/#environments)\n",
    "- [Retro](https://retro.readthedocs.io/en/latest/python.html)\n",
    "\n",
    "### Reinforcement implementations\n",
    "- https://bruceoutdoors.wordpress.com/2017/09/01/deep-q-learning-101-part-3-deep-q-learning/\n",
    "- https://keon.github.io/deep-q-learning/\n",
    "\n",
    "- https://github.com/h3nnn4n/Reverse-Engineering-the-GameBoy-Tetris/blob/master/mem_locations.md\n",
    "- https://adventuresinmachinelearning.com/reinforcement-learning-tutorial-python-keras/\n",
    "- https://yanpanlau.github.io/2016/07/10/FlappyBird-Keras.html\n",
    "- https://github.com/keras-rl/keras-rl\n",
    "- https://bruceoutdoors.wordpress.com/2017/08/30/deep-q-learning-101-part-1-convolutional-neural-networks/"
   ]
  },
  {
   "cell_type": "code",
   "execution_count": 1,
   "metadata": {},
   "outputs": [],
   "source": [
    "# Standard\n",
    "from pathlib import Path\n",
    "import threading\n",
    "import time\n",
    "import random\n",
    "\n",
    "# Extra\n",
    "import retro\n",
    "import numpy as np\n",
    "from PIL import Image\n",
    "import ipywidgets as widgets\n",
    "from io import BytesIO"
   ]
  },
  {
   "cell_type": "code",
   "execution_count": 2,
   "metadata": {},
   "outputs": [],
   "source": [
    "TETRIS_PATH = Path(\".\") / \"..\" / \"assets\" \n",
    "IMG_SHAPE = (36, 40)  # raw is 144 x 160 \n",
    "IMG_SHAPE = (144, 160)"
   ]
  },
  {
   "cell_type": "code",
   "execution_count": 3,
   "metadata": {},
   "outputs": [],
   "source": [
    "retro.data.Integrations.add_custom_path(TETRIS_PATH.resolve())"
   ]
  },
  {
   "cell_type": "code",
   "execution_count": 4,
   "metadata": {},
   "outputs": [],
   "source": [
    "info_obj = {\n",
    "    \"steps\": 0,\n",
    "    \"lines_cleared\": 0,\n",
    "    'frame_delay_remaining': 4,\n",
    "    \"level\": 0,\n",
    "    \"frame_delay\": 34,\n",
    "    \"lines_cleared_d1\": 0,\n",
    "    \"preview_piece\": 4,\n",
    "    \"screen_state\": 0,\n",
    "    \"score\": 0,\n",
    "    \"lines_cleared_d3\": 25,\n",
    "    \"lines_cleared_d2\": 25,\n",
    "    \"image\": open(TETRIS_PATH / \"test.png\", \"rb\").read(),\n",
    "    \"action\":0\n",
    "}\n",
    "\n",
    "actions = {\n",
    "    \"left\": [0, 0, 0, 0, 0, 0, 1, 0, 0],\n",
    "    \"right\": [0, 0, 0, 0, 0, 0, 0, 1, 0],\n",
    "    \"down\": [0, 0, 0, 0, 0, 1, 0, 0, 0],\n",
    "    \"rotate_clock\": [0, 0, 0, 0, 0, 0, 0, 0, 1],\n",
    "    \"rotate_counterclock\": [1, 0, 0, 0, 0, 0, 0, 0, 0],\n",
    "    \"nothing\": [0, 0, 0, 0, 0, 0, 0, 0, 0]\n",
    "}"
   ]
  },
  {
   "cell_type": "code",
   "execution_count": 5,
   "metadata": {},
   "outputs": [],
   "source": [
    "def create_widgets():\n",
    "    # Create info outputs\n",
    "    for key in info_obj.keys():\n",
    "        if key == \"image\":\n",
    "            all_widgets[key] = widgets.Image(\n",
    "                format='png',\n",
    "                width=IMG_SHAPE[1],\n",
    "                height=IMG_SHAPE[0]\n",
    "            )\n",
    "        else:\n",
    "            all_widgets[key] = widgets.IntText(\n",
    "                description=f\"{key}:\",\n",
    "                disabled=True,\n",
    "                layout=widgets.Layout(width=\"260px\"),\n",
    "                style={\"description_width\": \"140px\"},\n",
    "            )\n",
    "    \n",
    "    # Create stop button\n",
    "    def on_button_clicked(_):\n",
    "        global stop_threads\n",
    "        stop_threads = True\n",
    "\n",
    "    button = widgets.Button(description='Stop')\n",
    "    button.on_click(on_button_clicked)\n",
    "    all_widgets[\"Button\"] = button\n",
    "\n",
    "    # Layout widgets\n",
    "    w = widgets.GridBox(\n",
    "        [v for k, v in all_widgets.items()],\n",
    "        layout=widgets.Layout(grid_template_columns=\"repeat(2, 300px)\"),\n",
    "    )\n",
    "    return w"
   ]
  },
  {
   "cell_type": "code",
   "execution_count": 6,
   "metadata": {},
   "outputs": [],
   "source": [
    "def update_widgets(info):\n",
    "    for k, v in info_obj.items():\n",
    "        if k in info:\n",
    "            all_widgets[k].value = info[k]"
   ]
  },
  {
   "cell_type": "code",
   "execution_count": 7,
   "metadata": {},
   "outputs": [],
   "source": [
    "def preprocess_image(ary):\n",
    "    ary = ary[:,:,0]  # Remove color channels\n",
    "    ary[ary < 220] = 0    # Black\n",
    "    ary[ary >= 220] = 255 # White\n",
    "    factor = ary.shape[0] // IMG_SHAPE[0]\n",
    "    ary = ary.reshape((IMG_SHAPE[0], factor, IMG_SHAPE[1], factor)).min(3).min(1)  # rescale\n",
    "    return ary"
   ]
  },
  {
   "cell_type": "code",
   "execution_count": 8,
   "metadata": {},
   "outputs": [],
   "source": [
    "def ary_to_png(ary):\n",
    "    img = Image.fromarray(ary)\n",
    "    buf = BytesIO()\n",
    "    img.save(buf, format='png')\n",
    "    return buf.getvalue()"
   ]
  },
  {
   "cell_type": "code",
   "execution_count": 9,
   "metadata": {},
   "outputs": [],
   "source": [
    "def run_game(id, stop):\n",
    "    print(\"Starting Tetris...\")\n",
    "    env = retro.make(game=\"Tetris-GameBoy\", inttype=retro.data.Integrations.ALL)\n",
    "    obs = env.reset()  \n",
    "    steps = 0\n",
    "    last_piece = 0\n",
    "    line_cleared = -1000\n",
    "    while True:\n",
    "        steps += 1\n",
    "        time.sleep(0.0001)\n",
    "        if steps % 2 == 0:\n",
    "            action = random.choice(list(actions.values()))\n",
    "        else:\n",
    "            action = actions[\"nothing\"]\n",
    "            \n",
    "        state_raw, rew, done, info = env.step(action)\n",
    "        state = preprocess_image(state_raw)\n",
    "\n",
    "        reward = info[\"lines_cleared\"]**2 + steps / 10000\n",
    "        \n",
    "        if steps % 200 == 0:\n",
    "            info[\"image\"] = ary_to_png(state)\n",
    "            info[\"steps\"] = steps\n",
    "            info[\"action\"] = int(\"\".join([str(i) for i in action]))        \n",
    "            update_widgets(info)\n",
    "            \n",
    "        #if info[\"screen_state\"] != 0:\n",
    "            #print(f\"Screen State: {info['screen_state']}.\")\n",
    "            #break\n",
    "        if (info[\"lines_cleared\"] != 0) and (line_cleared < 0):\n",
    "            print(f\"line cleared: {steps}\")\n",
    "            line_cleared = steps\n",
    "        if line_cleared == steps - 150:\n",
    "            break\n",
    "        if done:\n",
    "            steps = 0\n",
    "            obs = env.reset()        \n",
    "        if stop():\n",
    "            print(\"Exiting loop.\")\n",
    "            break\n",
    "       \n",
    "    info[\"image\"] = ary_to_png(state)\n",
    "    info[\"steps\"] = steps\n",
    "    info[\"action\"] = int(\"\".join([str(i) for i in action]))         \n",
    "    update_widgets(info)\n",
    "    env.close()\n",
    "    print(f\"Execution Interrupted after {steps} steps.\")"
   ]
  },
  {
   "cell_type": "code",
   "execution_count": 10,
   "metadata": {},
   "outputs": [
    {
     "data": {
      "application/vnd.jupyter.widget-view+json": {
       "model_id": "01a455262a7e4c32bba8b31f6f532999",
       "version_major": 2,
       "version_minor": 0
      },
      "text/plain": [
       "GridBox(children=(IntText(value=0, description='steps:', disabled=True, layout=Layout(width='260px'), style=De…"
      ]
     },
     "metadata": {},
     "output_type": "display_data"
    }
   ],
   "source": [
    "all_widgets = {}\n",
    "stop_threads = False\n",
    "worker = threading.Thread(target=run_game, args=(id, lambda: stop_threads))\n",
    "display(create_widgets())"
   ]
  },
  {
   "cell_type": "code",
   "execution_count": 11,
   "metadata": {},
   "outputs": [
    {
     "name": "stdout",
     "output_type": "stream",
     "text": [
      "Starting Tetris...\n",
      "line cleared: 1075\n",
      "Execution Interrupted after 1225 steps.\n"
     ]
    }
   ],
   "source": [
    "worker.start()"
   ]
  },
  {
   "cell_type": "code",
   "execution_count": null,
   "metadata": {},
   "outputs": [],
   "source": []
  }
 ],
 "metadata": {
  "kernelspec": {
   "display_name": "Python 3",
   "language": "python",
   "name": "python3"
  },
  "language_info": {
   "codemirror_mode": {
    "name": "ipython",
    "version": 3
   },
   "file_extension": ".py",
   "mimetype": "text/x-python",
   "name": "python",
   "nbconvert_exporter": "python",
   "pygments_lexer": "ipython3",
   "version": "3.7.5"
  }
 },
 "nbformat": 4,
 "nbformat_minor": 4
}
